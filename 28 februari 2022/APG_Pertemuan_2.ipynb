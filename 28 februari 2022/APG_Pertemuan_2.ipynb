{
  "nbformat": 4,
  "nbformat_minor": 0,
  "metadata": {
    "colab": {
      "name": "APG_Pertemuan_2",
      "provenance": []
    },
    "kernelspec": {
      "name": "ir",
      "display_name": "R"
    },
    "language_info": {
      "name": "R"
    }
  },
  "cells": [
    {
      "cell_type": "markdown",
      "source": [
        "# Dataset yang digunakan"
      ],
      "metadata": {
        "id": "6I99wkl_DZQJ"
      }
    },
    {
      "cell_type": "code",
      "execution_count": 1,
      "metadata": {
        "colab": {
          "base_uri": "https://localhost:8080/",
          "height": 255
        },
        "id": "MyUAANl33Idl",
        "outputId": "ec0918a1-c51d-4f80-b6eb-561b7a6cacdf"
      },
      "outputs": [
        {
          "output_type": "display_data",
          "data": {
            "text/plain": [
              "  x1 x2 x3\n",
              "1 9  12 3 \n",
              "2 2   8 4 \n",
              "3 6   6 0 \n",
              "4 5   4 2 \n",
              "5 8  10 1 "
            ],
            "text/latex": "A data.frame: 5 × 3\n\\begin{tabular}{lll}\n x1 & x2 & x3\\\\\n <int> & <int> & <int>\\\\\n\\hline\n\t 9 & 12 & 3\\\\\n\t 2 &  8 & 4\\\\\n\t 6 &  6 & 0\\\\\n\t 5 &  4 & 2\\\\\n\t 8 & 10 & 1\\\\\n\\end{tabular}\n",
            "text/markdown": "\nA data.frame: 5 × 3\n\n| x1 &lt;int&gt; | x2 &lt;int&gt; | x3 &lt;int&gt; |\n|---|---|---|\n| 9 | 12 | 3 |\n| 2 |  8 | 4 |\n| 6 |  6 | 0 |\n| 5 |  4 | 2 |\n| 8 | 10 | 1 |\n\n",
            "text/html": [
              "<table class=\"dataframe\">\n",
              "<caption>A data.frame: 5 × 3</caption>\n",
              "<thead>\n",
              "\t<tr><th scope=col>x1</th><th scope=col>x2</th><th scope=col>x3</th></tr>\n",
              "\t<tr><th scope=col>&lt;int&gt;</th><th scope=col>&lt;int&gt;</th><th scope=col>&lt;int&gt;</th></tr>\n",
              "</thead>\n",
              "<tbody>\n",
              "\t<tr><td>9</td><td>12</td><td>3</td></tr>\n",
              "\t<tr><td>2</td><td> 8</td><td>4</td></tr>\n",
              "\t<tr><td>6</td><td> 6</td><td>0</td></tr>\n",
              "\t<tr><td>5</td><td> 4</td><td>2</td></tr>\n",
              "\t<tr><td>8</td><td>10</td><td>1</td></tr>\n",
              "</tbody>\n",
              "</table>\n"
            ]
          },
          "metadata": {}
        }
      ],
      "source": [
        "url<-\"https://raw.githubusercontent.com/rii92/tugas-APG/main/28%20februari%202022/tugas%20kedua%20APG.csv\"\n",
        "dataset1 <- read.csv(url, sep = \",\")\n",
        "dataset1"
      ]
    },
    {
      "cell_type": "markdown",
      "source": [
        "# bikin syntax no 1 dan 2"
      ],
      "metadata": {
        "id": "6e1GB9BtxjXv"
      }
    },
    {
      "cell_type": "code",
      "source": [
        "#buat xbar\n",
        "xbar1<-mean(dataset1$x1)\n",
        "xbar2<-mean(dataset1$x2)\n",
        "xbar3<-mean(dataset1$x3)\n",
        "xbar1\n",
        "xbar2\n",
        "xbar3"
      ],
      "metadata": {
        "colab": {
          "base_uri": "https://localhost:8080/",
          "height": 69
        },
        "id": "oTBlxT__OQOl",
        "outputId": "6bae6d97-33c7-4249-ae6c-361a1e15a161"
      },
      "execution_count": 15,
      "outputs": [
        {
          "output_type": "display_data",
          "data": {
            "text/plain": [
              "[1] 6"
            ],
            "text/latex": "6",
            "text/markdown": "6",
            "text/html": [
              "6"
            ]
          },
          "metadata": {}
        },
        {
          "output_type": "display_data",
          "data": {
            "text/plain": [
              "[1] 8"
            ],
            "text/latex": "8",
            "text/markdown": "8",
            "text/html": [
              "8"
            ]
          },
          "metadata": {}
        },
        {
          "output_type": "display_data",
          "data": {
            "text/plain": [
              "[1] 2"
            ],
            "text/latex": "2",
            "text/markdown": "2",
            "text/html": [
              "2"
            ]
          },
          "metadata": {}
        }
      ]
    },
    {
      "cell_type": "markdown",
      "source": [
        "***memanfaatkan deviasi untuk mencari matrix covariance***"
      ],
      "metadata": {
        "id": "EFouCNlHdwwM"
      }
    },
    {
      "cell_type": "code",
      "source": [
        "d1<-matrix(dataset1$x1)-xbar1*1\n",
        "d2<-matrix(dataset1$x2)-xbar2*1\n",
        "d3<-matrix(dataset1$x3)-xbar3*1\n",
        "matrix(c(\"d1\",d1,\"d2\",d2,\"d3\",d3),6,3)"
      ],
      "metadata": {
        "colab": {
          "base_uri": "https://localhost:8080/",
          "height": 240
        },
        "id": "YwBb2SBUVkY-",
        "outputId": "a005b886-412b-48d1-8042-90f25e646d5f"
      },
      "execution_count": 34,
      "outputs": [
        {
          "output_type": "display_data",
          "data": {
            "text/plain": [
              "     [,1] [,2] [,3]\n",
              "[1,] d1   d2   d3  \n",
              "[2,] 3    4    1   \n",
              "[3,] -4   0    2   \n",
              "[4,] 0    -2   -2  \n",
              "[5,] -1   -4   0   \n",
              "[6,] 2    2    -1  "
            ],
            "text/latex": "A matrix: 6 × 3 of type chr\n\\begin{tabular}{lll}\n\t d1 & d2 & d3\\\\\n\t 3  & 4  & 1 \\\\\n\t -4 & 0  & 2 \\\\\n\t 0  & -2 & -2\\\\\n\t -1 & -4 & 0 \\\\\n\t 2  & 2  & -1\\\\\n\\end{tabular}\n",
            "text/markdown": "\nA matrix: 6 × 3 of type chr\n\n| d1 | d2 | d3 |\n| 3  | 4  | 1  |\n| -4 | 0  | 2  |\n| 0  | -2 | -2 |\n| -1 | -4 | 0  |\n| 2  | 2  | -1 |\n\n",
            "text/html": [
              "<table class=\"dataframe\">\n",
              "<caption>A matrix: 6 × 3 of type chr</caption>\n",
              "<tbody>\n",
              "\t<tr><td>d1</td><td>d2</td><td>d3</td></tr>\n",
              "\t<tr><td>3 </td><td>4 </td><td>1 </td></tr>\n",
              "\t<tr><td>-4</td><td>0 </td><td>2 </td></tr>\n",
              "\t<tr><td>0 </td><td>-2</td><td>-2</td></tr>\n",
              "\t<tr><td>-1</td><td>-4</td><td>0 </td></tr>\n",
              "\t<tr><td>2 </td><td>2 </td><td>-1</td></tr>\n",
              "</tbody>\n",
              "</table>\n"
            ]
          },
          "metadata": {}
        }
      ]
    },
    {
      "cell_type": "code",
      "source": [
        "n<-5\n",
        "s11<-t(d1)%*%d1/(n-1)\n",
        "s12<-t(d1)%*%d2/(n-1)\n",
        "s13<-t(d1)%*%d3/(n-1)\n",
        "s21<-t(d2)%*%d1/(n-1)\n",
        "s22<-t(d2)%*%d2/(n-1)\n",
        "s23<-t(d2)%*%d3/(n-1)\n",
        "s31<-t(d3)%*%d1/(n-1)\n",
        "s32<-t(d3)%*%d2/(n-1)\n",
        "s33<-t(d3)%*%d3/(n-1)\n",
        "\n",
        "#covarians matrix\n",
        "cm1<-matrix(c(s11,s12,s13,s21,s22,s23,s31,s32,s33), 3, 3)\n",
        "cm1"
      ],
      "metadata": {
        "colab": {
          "base_uri": "https://localhost:8080/",
          "height": 146
        },
        "id": "op9cNuIYXmLu",
        "outputId": "022154dc-ba0c-4d6e-f161-5a9b2c66b1e4"
      },
      "execution_count": 30,
      "outputs": [
        {
          "output_type": "display_data",
          "data": {
            "text/plain": [
              "     [,1]  [,2] [,3] \n",
              "[1,]  7.50  5.0 -1.75\n",
              "[2,]  5.00 10.0  1.50\n",
              "[3,] -1.75  1.5  2.50"
            ],
            "text/latex": "A matrix: 3 × 3 of type dbl\n\\begin{tabular}{lll}\n\t  7.50 &  5.0 & -1.75\\\\\n\t  5.00 & 10.0 &  1.50\\\\\n\t -1.75 &  1.5 &  2.50\\\\\n\\end{tabular}\n",
            "text/markdown": "\nA matrix: 3 × 3 of type dbl\n\n|  7.50 |  5.0 | -1.75 |\n|  5.00 | 10.0 |  1.50 |\n| -1.75 |  1.5 |  2.50 |\n\n",
            "text/html": [
              "<table class=\"dataframe\">\n",
              "<caption>A matrix: 3 × 3 of type dbl</caption>\n",
              "<tbody>\n",
              "\t<tr><td> 7.50</td><td> 5.0</td><td>-1.75</td></tr>\n",
              "\t<tr><td> 5.00</td><td>10.0</td><td> 1.50</td></tr>\n",
              "\t<tr><td>-1.75</td><td> 1.5</td><td> 2.50</td></tr>\n",
              "</tbody>\n",
              "</table>\n"
            ]
          },
          "metadata": {}
        }
      ]
    },
    {
      "cell_type": "markdown",
      "source": [
        "***menggunakan S=sum(xj-x_bar)(xj-x_bar)'/(n-1) untuk mencari matrix covariance*** "
      ],
      "metadata": {
        "id": "Rk8AWTj3d2Bl"
      }
    },
    {
      "cell_type": "code",
      "source": [
        "ss11<-sum((dataset1$x1-xbar1)*(dataset1$x1-xbar1))/(n-1)\n",
        "ss12<-sum((dataset1$x1-xbar1)*(dataset1$x2-xbar2))/(n-1)\n",
        "ss13<-sum((dataset1$x1-xbar1)*(dataset1$x3-xbar3))/(n-1)\n",
        "ss21<-sum((dataset1$x2-xbar2)*(dataset1$x1-xbar1))/(n-1)\n",
        "ss22<-sum((dataset1$x2-xbar2)*(dataset1$x2-xbar2))/(n-1)\n",
        "ss23<-sum((dataset1$x2-xbar2)*(dataset1$x3-xbar3))/(n-1)\n",
        "ss31<-sum((dataset1$x3-xbar3)*(dataset1$x1-xbar1))/(n-1)\n",
        "ss32<-sum((dataset1$x3-xbar3)*(dataset1$x2-xbar2))/(n-1)\n",
        "ss33<-sum((dataset1$x3-xbar3)*(dataset1$x3-xbar3))/(n-1)\n",
        "cm2<-matrix(c(ss11,ss12,ss13,ss21,ss22,ss23,ss31,ss32,ss33),3,3)\n",
        "cm2"
      ],
      "metadata": {
        "colab": {
          "base_uri": "https://localhost:8080/",
          "height": 146
        },
        "id": "tUa-Sd1rd6NP",
        "outputId": "3195773d-e31a-4a84-cd15-6d04e6db119a"
      },
      "execution_count": 47,
      "outputs": [
        {
          "output_type": "display_data",
          "data": {
            "text/plain": [
              "     [,1]  [,2] [,3] \n",
              "[1,]  7.50  5.0 -1.75\n",
              "[2,]  5.00 10.0  1.50\n",
              "[3,] -1.75  1.5  2.50"
            ],
            "text/latex": "A matrix: 3 × 3 of type dbl\n\\begin{tabular}{lll}\n\t  7.50 &  5.0 & -1.75\\\\\n\t  5.00 & 10.0 &  1.50\\\\\n\t -1.75 &  1.5 &  2.50\\\\\n\\end{tabular}\n",
            "text/markdown": "\nA matrix: 3 × 3 of type dbl\n\n|  7.50 |  5.0 | -1.75 |\n|  5.00 | 10.0 |  1.50 |\n| -1.75 |  1.5 |  2.50 |\n\n",
            "text/html": [
              "<table class=\"dataframe\">\n",
              "<caption>A matrix: 3 × 3 of type dbl</caption>\n",
              "<tbody>\n",
              "\t<tr><td> 7.50</td><td> 5.0</td><td>-1.75</td></tr>\n",
              "\t<tr><td> 5.00</td><td>10.0</td><td> 1.50</td></tr>\n",
              "\t<tr><td>-1.75</td><td> 1.5</td><td> 2.50</td></tr>\n",
              "</tbody>\n",
              "</table>\n"
            ]
          },
          "metadata": {}
        }
      ]
    },
    {
      "cell_type": "markdown",
      "source": [
        "matrix S yang menggunakan cara memanfaatkan deviasi memiliki hasil yang sama dengan matrix S yang menggunakan cara penjumlahan biasa untuk mencari covariance"
      ],
      "metadata": {
        "id": "XxUzIxAZgZa-"
      }
    },
    {
      "cell_type": "markdown",
      "source": [
        "***Sample Correlation matrix R dengan memanfaatkan matrix S***"
      ],
      "metadata": {
        "id": "_MsqzEKRgEOT"
      }
    },
    {
      "cell_type": "code",
      "source": [
        "#mencari D^(-0.5)\n",
        "matrixDiagonal<-matrix(c(s11^(-0.5),0,0,0,s22^(-0.5),0,0,0,s33^(-0.5)),3,3)\n",
        "matrixDiagonal"
      ],
      "metadata": {
        "colab": {
          "base_uri": "https://localhost:8080/",
          "height": 128
        },
        "id": "gRM6foaMgKfU",
        "outputId": "1389aee6-7676-496c-9c14-9b092af585bf"
      },
      "execution_count": 48,
      "outputs": [
        {
          "output_type": "display_data",
          "data": {
            "text/plain": [
              "     [,1]      [,2]      [,3]     \n",
              "[1,] 0.3651484 0.0000000 0.0000000\n",
              "[2,] 0.0000000 0.3162278 0.0000000\n",
              "[3,] 0.0000000 0.0000000 0.6324555"
            ],
            "text/latex": "A matrix: 3 × 3 of type dbl\n\\begin{tabular}{lll}\n\t 0.3651484 & 0.0000000 & 0.0000000\\\\\n\t 0.0000000 & 0.3162278 & 0.0000000\\\\\n\t 0.0000000 & 0.0000000 & 0.6324555\\\\\n\\end{tabular}\n",
            "text/markdown": "\nA matrix: 3 × 3 of type dbl\n\n| 0.3651484 | 0.0000000 | 0.0000000 |\n| 0.0000000 | 0.3162278 | 0.0000000 |\n| 0.0000000 | 0.0000000 | 0.6324555 |\n\n",
            "text/html": [
              "<table class=\"dataframe\">\n",
              "<caption>A matrix: 3 × 3 of type dbl</caption>\n",
              "<tbody>\n",
              "\t<tr><td>0.3651484</td><td>0.0000000</td><td>0.0000000</td></tr>\n",
              "\t<tr><td>0.0000000</td><td>0.3162278</td><td>0.0000000</td></tr>\n",
              "\t<tr><td>0.0000000</td><td>0.0000000</td><td>0.6324555</td></tr>\n",
              "</tbody>\n",
              "</table>\n"
            ]
          },
          "metadata": {}
        }
      ]
    },
    {
      "cell_type": "code",
      "source": [
        "#matrix Correlation\n",
        "mc <- matrixDiagonal%*%cm1%*%matrixDiagonal\n",
        "mc"
      ],
      "metadata": {
        "colab": {
          "base_uri": "https://localhost:8080/",
          "height": 128
        },
        "id": "4cNBiws2hWG1",
        "outputId": "38fe8661-a4c4-4a53-ba6e-dfedf0e00440"
      },
      "execution_count": 49,
      "outputs": [
        {
          "output_type": "display_data",
          "data": {
            "text/plain": [
              "     [,1]       [,2]      [,3]      \n",
              "[1,]  1.0000000 0.5773503 -0.4041452\n",
              "[2,]  0.5773503 1.0000000  0.3000000\n",
              "[3,] -0.4041452 0.3000000  1.0000000"
            ],
            "text/latex": "A matrix: 3 × 3 of type dbl\n\\begin{tabular}{lll}\n\t  1.0000000 & 0.5773503 & -0.4041452\\\\\n\t  0.5773503 & 1.0000000 &  0.3000000\\\\\n\t -0.4041452 & 0.3000000 &  1.0000000\\\\\n\\end{tabular}\n",
            "text/markdown": "\nA matrix: 3 × 3 of type dbl\n\n|  1.0000000 | 0.5773503 | -0.4041452 |\n|  0.5773503 | 1.0000000 |  0.3000000 |\n| -0.4041452 | 0.3000000 |  1.0000000 |\n\n",
            "text/html": [
              "<table class=\"dataframe\">\n",
              "<caption>A matrix: 3 × 3 of type dbl</caption>\n",
              "<tbody>\n",
              "\t<tr><td> 1.0000000</td><td>0.5773503</td><td>-0.4041452</td></tr>\n",
              "\t<tr><td> 0.5773503</td><td>1.0000000</td><td> 0.3000000</td></tr>\n",
              "\t<tr><td>-0.4041452</td><td>0.3000000</td><td> 1.0000000</td></tr>\n",
              "</tbody>\n",
              "</table>\n"
            ]
          },
          "metadata": {}
        }
      ]
    },
    {
      "cell_type": "markdown",
      "source": [
        "# Matriks correlation and covariance dengan syntax R yang sudah jadi: cov(), cor()"
      ],
      "metadata": {
        "id": "UJnh8Mb_5tZk"
      }
    },
    {
      "cell_type": "code",
      "source": [
        "cov(dataset1)"
      ],
      "metadata": {
        "colab": {
          "base_uri": "https://localhost:8080/",
          "height": 161
        },
        "id": "KJT7oepy4knu",
        "outputId": "f460b996-2f4b-497b-9b23-4379d06e4857"
      },
      "execution_count": 3,
      "outputs": [
        {
          "output_type": "display_data",
          "data": {
            "text/plain": [
              "   x1    x2   x3   \n",
              "x1  7.50  5.0 -1.75\n",
              "x2  5.00 10.0  1.50\n",
              "x3 -1.75  1.5  2.50"
            ],
            "text/latex": "A matrix: 3 × 3 of type dbl\n\\begin{tabular}{r|lll}\n  & x1 & x2 & x3\\\\\n\\hline\n\tx1 &  7.50 &  5.0 & -1.75\\\\\n\tx2 &  5.00 & 10.0 &  1.50\\\\\n\tx3 & -1.75 &  1.5 &  2.50\\\\\n\\end{tabular}\n",
            "text/markdown": "\nA matrix: 3 × 3 of type dbl\n\n| <!--/--> | x1 | x2 | x3 |\n|---|---|---|---|\n| x1 |  7.50 |  5.0 | -1.75 |\n| x2 |  5.00 | 10.0 |  1.50 |\n| x3 | -1.75 |  1.5 |  2.50 |\n\n",
            "text/html": [
              "<table class=\"dataframe\">\n",
              "<caption>A matrix: 3 × 3 of type dbl</caption>\n",
              "<thead>\n",
              "\t<tr><th></th><th scope=col>x1</th><th scope=col>x2</th><th scope=col>x3</th></tr>\n",
              "</thead>\n",
              "<tbody>\n",
              "\t<tr><th scope=row>x1</th><td> 7.50</td><td> 5.0</td><td>-1.75</td></tr>\n",
              "\t<tr><th scope=row>x2</th><td> 5.00</td><td>10.0</td><td> 1.50</td></tr>\n",
              "\t<tr><th scope=row>x3</th><td>-1.75</td><td> 1.5</td><td> 2.50</td></tr>\n",
              "</tbody>\n",
              "</table>\n"
            ]
          },
          "metadata": {}
        }
      ]
    },
    {
      "cell_type": "code",
      "source": [
        "cor(dataset1)"
      ],
      "metadata": {
        "colab": {
          "base_uri": "https://localhost:8080/",
          "height": 161
        },
        "id": "EH7asHrs4xg7",
        "outputId": "0e39401e-55cc-4585-a640-90bb0714ece4"
      },
      "execution_count": 5,
      "outputs": [
        {
          "output_type": "display_data",
          "data": {
            "text/plain": [
              "   x1         x2        x3        \n",
              "x1  1.0000000 0.5773503 -0.4041452\n",
              "x2  0.5773503 1.0000000  0.3000000\n",
              "x3 -0.4041452 0.3000000  1.0000000"
            ],
            "text/latex": "A matrix: 3 × 3 of type dbl\n\\begin{tabular}{r|lll}\n  & x1 & x2 & x3\\\\\n\\hline\n\tx1 &  1.0000000 & 0.5773503 & -0.4041452\\\\\n\tx2 &  0.5773503 & 1.0000000 &  0.3000000\\\\\n\tx3 & -0.4041452 & 0.3000000 &  1.0000000\\\\\n\\end{tabular}\n",
            "text/markdown": "\nA matrix: 3 × 3 of type dbl\n\n| <!--/--> | x1 | x2 | x3 |\n|---|---|---|---|\n| x1 |  1.0000000 | 0.5773503 | -0.4041452 |\n| x2 |  0.5773503 | 1.0000000 |  0.3000000 |\n| x3 | -0.4041452 | 0.3000000 |  1.0000000 |\n\n",
            "text/html": [
              "<table class=\"dataframe\">\n",
              "<caption>A matrix: 3 × 3 of type dbl</caption>\n",
              "<thead>\n",
              "\t<tr><th></th><th scope=col>x1</th><th scope=col>x2</th><th scope=col>x3</th></tr>\n",
              "</thead>\n",
              "<tbody>\n",
              "\t<tr><th scope=row>x1</th><td> 1.0000000</td><td>0.5773503</td><td>-0.4041452</td></tr>\n",
              "\t<tr><th scope=row>x2</th><td> 0.5773503</td><td>1.0000000</td><td> 0.3000000</td></tr>\n",
              "\t<tr><th scope=row>x3</th><td>-0.4041452</td><td>0.3000000</td><td> 1.0000000</td></tr>\n",
              "</tbody>\n",
              "</table>\n"
            ]
          },
          "metadata": {}
        }
      ]
    },
    {
      "cell_type": "markdown",
      "source": [
        "# Eigen value and eigen vector"
      ],
      "metadata": {
        "id": "U60O8q3f50vz"
      }
    },
    {
      "cell_type": "code",
      "source": [
        "eigen(cov(dataset1))\n"
      ],
      "metadata": {
        "colab": {
          "base_uri": "https://localhost:8080/",
          "height": 173
        },
        "id": "8XbRtnv559sU",
        "outputId": "06e3ec11-bb51-4c8a-b43b-67db0e405805"
      },
      "execution_count": 6,
      "outputs": [
        {
          "output_type": "display_data",
          "data": {
            "text/plain": [
              "eigen() decomposition\n",
              "$values\n",
              "[1] 13.9049009  5.4143634  0.6807358\n",
              "\n",
              "$vectors\n",
              "             [,1]       [,2]       [,3]\n",
              "[1,] -0.613679310 -0.6232975  0.4846627\n",
              "[2,] -0.789496144  0.4769002 -0.3863444\n",
              "[3,] -0.009671757  0.6197309  0.7847548\n"
            ]
          },
          "metadata": {}
        }
      ]
    },
    {
      "cell_type": "code",
      "source": [
        "eigen(cor(dataset1))"
      ],
      "metadata": {
        "colab": {
          "base_uri": "https://localhost:8080/",
          "height": 173
        },
        "id": "Xzh_fxHqXyuu",
        "outputId": "ecf7e37a-0606-468b-ca45-73c8a2e9837a"
      },
      "execution_count": 7,
      "outputs": [
        {
          "output_type": "display_data",
          "data": {
            "text/plain": [
              "eigen() decomposition\n",
              "$values\n",
              "[1] 1.591638 1.273514 0.134848\n",
              "\n",
              "$vectors\n",
              "           [,1]       [,2]       [,3]\n",
              "[1,]  0.7490653 -0.2047782  0.6300533\n",
              "[2,]  0.6347139  0.4943479 -0.5939347\n",
              "[3,] -0.1898407  0.8447994  0.5002744\n"
            ]
          },
          "metadata": {}
        }
      ]
    }
  ]
}